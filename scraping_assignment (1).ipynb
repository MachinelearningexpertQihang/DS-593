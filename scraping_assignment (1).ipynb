{
  "cells": [
    {
      "cell_type": "code",
      "execution_count": null,
      "id": "6aca90db",
      "metadata": {
        "colab": {
          "base_uri": "https://localhost:8080/",
          "height": 1000
        },
        "id": "6aca90db",
        "outputId": "9655b2bd-094a-4a5c-f601-3cd5c06af93c"
      },
      "outputs": [
        {
          "name": "stdout",
          "output_type": "stream",
          "text": [
            "Collecting otter-grader\n",
            "  Downloading otter_grader-5.6.0-py3-none-any.whl.metadata (2.9 kB)\n",
            "Collecting dill (from otter-grader)\n",
            "  Downloading dill-0.3.8-py3-none-any.whl.metadata (10 kB)\n",
            "Requirement already satisfied: jinja2 in /usr/local/lib/python3.10/dist-packages (from otter-grader) (3.1.4)\n",
            "Requirement already satisfied: nbformat in /usr/local/lib/python3.10/dist-packages (from otter-grader) (5.10.4)\n",
            "Requirement already satisfied: pandas in /usr/local/lib/python3.10/dist-packages (from otter-grader) (2.1.4)\n",
            "Requirement already satisfied: PyYAML in /usr/local/lib/python3.10/dist-packages (from otter-grader) (6.0.2)\n",
            "Collecting python-on-whales (from otter-grader)\n",
            "  Downloading python_on_whales-0.73.0-py3-none-any.whl.metadata (18 kB)\n",
            "Requirement already satisfied: requests in /usr/local/lib/python3.10/dist-packages (from otter-grader) (2.32.3)\n",
            "Requirement already satisfied: wrapt in /usr/local/lib/python3.10/dist-packages (from otter-grader) (1.16.0)\n",
            "Collecting jupytext (from otter-grader)\n",
            "  Downloading jupytext-1.16.4-py3-none-any.whl.metadata (13 kB)\n",
            "Requirement already satisfied: click in /usr/local/lib/python3.10/dist-packages (from otter-grader) (8.1.7)\n",
            "Collecting fica>=0.3.1 (from otter-grader)\n",
            "  Downloading fica-0.4.0-py3-none-any.whl.metadata (1.6 kB)\n",
            "Requirement already satisfied: ipython in /usr/local/lib/python3.10/dist-packages (from otter-grader) (7.34.0)\n",
            "Requirement already satisfied: astunparse in /usr/local/lib/python3.10/dist-packages (from otter-grader) (1.6.3)\n",
            "Requirement already satisfied: ipywidgets in /usr/local/lib/python3.10/dist-packages (from otter-grader) (7.7.1)\n",
            "Collecting ipylab (from otter-grader)\n",
            "  Downloading ipylab-1.0.0-py3-none-any.whl.metadata (6.7 kB)\n",
            "Requirement already satisfied: setuptools in /usr/local/lib/python3.10/dist-packages (from otter-grader) (71.0.4)\n",
            "Requirement already satisfied: nbconvert in /usr/local/lib/python3.10/dist-packages (from otter-grader) (6.5.4)\n",
            "Requirement already satisfied: docutils in /usr/local/lib/python3.10/dist-packages (from fica>=0.3.1->otter-grader) (0.18.1)\n",
            "Requirement already satisfied: sphinx in /usr/local/lib/python3.10/dist-packages (from fica>=0.3.1->otter-grader) (5.0.2)\n",
            "Requirement already satisfied: wheel<1.0,>=0.23.0 in /usr/local/lib/python3.10/dist-packages (from astunparse->otter-grader) (0.44.0)\n",
            "Requirement already satisfied: six<2.0,>=1.6.1 in /usr/local/lib/python3.10/dist-packages (from astunparse->otter-grader) (1.16.0)\n",
            "Requirement already satisfied: ipykernel>=4.5.1 in /usr/local/lib/python3.10/dist-packages (from ipywidgets->otter-grader) (5.5.6)\n",
            "Requirement already satisfied: ipython-genutils~=0.2.0 in /usr/local/lib/python3.10/dist-packages (from ipywidgets->otter-grader) (0.2.0)\n",
            "Requirement already satisfied: traitlets>=4.3.1 in /usr/local/lib/python3.10/dist-packages (from ipywidgets->otter-grader) (5.7.1)\n",
            "Requirement already satisfied: widgetsnbextension~=3.6.0 in /usr/local/lib/python3.10/dist-packages (from ipywidgets->otter-grader) (3.6.9)\n",
            "Requirement already satisfied: jupyterlab-widgets>=1.0.0 in /usr/local/lib/python3.10/dist-packages (from ipywidgets->otter-grader) (3.0.13)\n",
            "Collecting jedi>=0.16 (from ipython->otter-grader)\n",
            "  Using cached jedi-0.19.1-py2.py3-none-any.whl.metadata (22 kB)\n",
            "Requirement already satisfied: decorator in /usr/local/lib/python3.10/dist-packages (from ipython->otter-grader) (4.4.2)\n",
            "Requirement already satisfied: pickleshare in /usr/local/lib/python3.10/dist-packages (from ipython->otter-grader) (0.7.5)\n",
            "Requirement already satisfied: prompt-toolkit!=3.0.0,!=3.0.1,<3.1.0,>=2.0.0 in /usr/local/lib/python3.10/dist-packages (from ipython->otter-grader) (3.0.47)\n",
            "Requirement already satisfied: pygments in /usr/local/lib/python3.10/dist-packages (from ipython->otter-grader) (2.16.1)\n",
            "Requirement already satisfied: backcall in /usr/local/lib/python3.10/dist-packages (from ipython->otter-grader) (0.2.0)\n",
            "Requirement already satisfied: matplotlib-inline in /usr/local/lib/python3.10/dist-packages (from ipython->otter-grader) (0.1.7)\n",
            "Requirement already satisfied: pexpect>4.3 in /usr/local/lib/python3.10/dist-packages (from ipython->otter-grader) (4.9.0)\n",
            "Requirement already satisfied: MarkupSafe>=2.0 in /usr/local/lib/python3.10/dist-packages (from jinja2->otter-grader) (2.1.5)\n",
            "Requirement already satisfied: markdown-it-py>=1.0 in /usr/local/lib/python3.10/dist-packages (from jupytext->otter-grader) (3.0.0)\n",
            "Requirement already satisfied: mdit-py-plugins in /usr/local/lib/python3.10/dist-packages (from jupytext->otter-grader) (0.4.2)\n",
            "Requirement already satisfied: packaging in /usr/local/lib/python3.10/dist-packages (from jupytext->otter-grader) (24.1)\n",
            "Requirement already satisfied: tomli in /usr/local/lib/python3.10/dist-packages (from jupytext->otter-grader) (2.0.1)\n",
            "Requirement already satisfied: lxml in /usr/local/lib/python3.10/dist-packages (from nbconvert->otter-grader) (4.9.4)\n",
            "Requirement already satisfied: beautifulsoup4 in /usr/local/lib/python3.10/dist-packages (from nbconvert->otter-grader) (4.12.3)\n",
            "Requirement already satisfied: bleach in /usr/local/lib/python3.10/dist-packages (from nbconvert->otter-grader) (6.1.0)\n",
            "Requirement already satisfied: defusedxml in /usr/local/lib/python3.10/dist-packages (from nbconvert->otter-grader) (0.7.1)\n",
            "Requirement already satisfied: entrypoints>=0.2.2 in /usr/local/lib/python3.10/dist-packages (from nbconvert->otter-grader) (0.4)\n",
            "Requirement already satisfied: jupyter-core>=4.7 in /usr/local/lib/python3.10/dist-packages (from nbconvert->otter-grader) (5.7.2)\n",
            "Requirement already satisfied: jupyterlab-pygments in /usr/local/lib/python3.10/dist-packages (from nbconvert->otter-grader) (0.3.0)\n",
            "Requirement already satisfied: mistune<2,>=0.8.1 in /usr/local/lib/python3.10/dist-packages (from nbconvert->otter-grader) (0.8.4)\n",
            "Requirement already satisfied: nbclient>=0.5.0 in /usr/local/lib/python3.10/dist-packages (from nbconvert->otter-grader) (0.10.0)\n",
            "Requirement already satisfied: pandocfilters>=1.4.1 in /usr/local/lib/python3.10/dist-packages (from nbconvert->otter-grader) (1.5.1)\n",
            "Requirement already satisfied: tinycss2 in /usr/local/lib/python3.10/dist-packages (from nbconvert->otter-grader) (1.3.0)\n",
            "Requirement already satisfied: fastjsonschema>=2.15 in /usr/local/lib/python3.10/dist-packages (from nbformat->otter-grader) (2.20.0)\n",
            "Requirement already satisfied: jsonschema>=2.6 in /usr/local/lib/python3.10/dist-packages (from nbformat->otter-grader) (4.23.0)\n",
            "Requirement already satisfied: numpy<2,>=1.22.4 in /usr/local/lib/python3.10/dist-packages (from pandas->otter-grader) (1.26.4)\n",
            "Requirement already satisfied: python-dateutil>=2.8.2 in /usr/local/lib/python3.10/dist-packages (from pandas->otter-grader) (2.8.2)\n",
            "Requirement already satisfied: pytz>=2020.1 in /usr/local/lib/python3.10/dist-packages (from pandas->otter-grader) (2024.2)\n",
            "Requirement already satisfied: tzdata>=2022.1 in /usr/local/lib/python3.10/dist-packages (from pandas->otter-grader) (2024.1)\n",
            "Requirement already satisfied: pydantic!=2.0.*,<3,>=2 in /usr/local/lib/python3.10/dist-packages (from python-on-whales->otter-grader) (2.9.1)\n",
            "Requirement already satisfied: tqdm in /usr/local/lib/python3.10/dist-packages (from python-on-whales->otter-grader) (4.66.5)\n",
            "Requirement already satisfied: typer>=0.4.1 in /usr/local/lib/python3.10/dist-packages (from python-on-whales->otter-grader) (0.12.5)\n",
            "Requirement already satisfied: typing-extensions in /usr/local/lib/python3.10/dist-packages (from python-on-whales->otter-grader) (4.12.2)\n",
            "Requirement already satisfied: charset-normalizer<4,>=2 in /usr/local/lib/python3.10/dist-packages (from requests->otter-grader) (3.3.2)\n",
            "Requirement already satisfied: idna<4,>=2.5 in /usr/local/lib/python3.10/dist-packages (from requests->otter-grader) (3.8)\n",
            "Requirement already satisfied: urllib3<3,>=1.21.1 in /usr/local/lib/python3.10/dist-packages (from requests->otter-grader) (2.0.7)\n",
            "Requirement already satisfied: certifi>=2017.4.17 in /usr/local/lib/python3.10/dist-packages (from requests->otter-grader) (2024.8.30)\n",
            "Requirement already satisfied: jupyter-client in /usr/local/lib/python3.10/dist-packages (from ipykernel>=4.5.1->ipywidgets->otter-grader) (6.1.12)\n",
            "Requirement already satisfied: tornado>=4.2 in /usr/local/lib/python3.10/dist-packages (from ipykernel>=4.5.1->ipywidgets->otter-grader) (6.3.3)\n",
            "Requirement already satisfied: parso<0.9.0,>=0.8.3 in /usr/local/lib/python3.10/dist-packages (from jedi>=0.16->ipython->otter-grader) (0.8.4)\n",
            "Requirement already satisfied: attrs>=22.2.0 in /usr/local/lib/python3.10/dist-packages (from jsonschema>=2.6->nbformat->otter-grader) (24.2.0)\n",
            "Requirement already satisfied: jsonschema-specifications>=2023.03.6 in /usr/local/lib/python3.10/dist-packages (from jsonschema>=2.6->nbformat->otter-grader) (2023.12.1)\n",
            "Requirement already satisfied: referencing>=0.28.4 in /usr/local/lib/python3.10/dist-packages (from jsonschema>=2.6->nbformat->otter-grader) (0.35.1)\n",
            "Requirement already satisfied: rpds-py>=0.7.1 in /usr/local/lib/python3.10/dist-packages (from jsonschema>=2.6->nbformat->otter-grader) (0.20.0)\n",
            "Requirement already satisfied: platformdirs>=2.5 in /usr/local/lib/python3.10/dist-packages (from jupyter-core>=4.7->nbconvert->otter-grader) (4.3.2)\n",
            "Requirement already satisfied: mdurl~=0.1 in /usr/local/lib/python3.10/dist-packages (from markdown-it-py>=1.0->jupytext->otter-grader) (0.1.2)\n",
            "Requirement already satisfied: ptyprocess>=0.5 in /usr/local/lib/python3.10/dist-packages (from pexpect>4.3->ipython->otter-grader) (0.7.0)\n",
            "Requirement already satisfied: wcwidth in /usr/local/lib/python3.10/dist-packages (from prompt-toolkit!=3.0.0,!=3.0.1,<3.1.0,>=2.0.0->ipython->otter-grader) (0.2.13)\n",
            "Requirement already satisfied: annotated-types>=0.6.0 in /usr/local/lib/python3.10/dist-packages (from pydantic!=2.0.*,<3,>=2->python-on-whales->otter-grader) (0.7.0)\n",
            "Requirement already satisfied: pydantic-core==2.23.3 in /usr/local/lib/python3.10/dist-packages (from pydantic!=2.0.*,<3,>=2->python-on-whales->otter-grader) (2.23.3)\n",
            "Requirement already satisfied: shellingham>=1.3.0 in /usr/local/lib/python3.10/dist-packages (from typer>=0.4.1->python-on-whales->otter-grader) (1.5.4)\n",
            "Requirement already satisfied: rich>=10.11.0 in /usr/local/lib/python3.10/dist-packages (from typer>=0.4.1->python-on-whales->otter-grader) (13.8.1)\n",
            "Requirement already satisfied: notebook>=4.4.1 in /usr/local/lib/python3.10/dist-packages (from widgetsnbextension~=3.6.0->ipywidgets->otter-grader) (6.5.5)\n",
            "Requirement already satisfied: soupsieve>1.2 in /usr/local/lib/python3.10/dist-packages (from beautifulsoup4->nbconvert->otter-grader) (2.6)\n",
            "Requirement already satisfied: webencodings in /usr/local/lib/python3.10/dist-packages (from bleach->nbconvert->otter-grader) (0.5.1)\n",
            "Requirement already satisfied: sphinxcontrib-applehelp in /usr/local/lib/python3.10/dist-packages (from sphinx->fica>=0.3.1->otter-grader) (2.0.0)\n",
            "Requirement already satisfied: sphinxcontrib-devhelp in /usr/local/lib/python3.10/dist-packages (from sphinx->fica>=0.3.1->otter-grader) (2.0.0)\n",
            "Requirement already satisfied: sphinxcontrib-jsmath in /usr/local/lib/python3.10/dist-packages (from sphinx->fica>=0.3.1->otter-grader) (1.0.1)\n",
            "Requirement already satisfied: sphinxcontrib-htmlhelp>=2.0.0 in /usr/local/lib/python3.10/dist-packages (from sphinx->fica>=0.3.1->otter-grader) (2.1.0)\n",
            "Requirement already satisfied: sphinxcontrib-serializinghtml>=1.1.5 in /usr/local/lib/python3.10/dist-packages (from sphinx->fica>=0.3.1->otter-grader) (2.0.0)\n",
            "Requirement already satisfied: sphinxcontrib-qthelp in /usr/local/lib/python3.10/dist-packages (from sphinx->fica>=0.3.1->otter-grader) (2.0.0)\n",
            "Requirement already satisfied: snowballstemmer>=1.1 in /usr/local/lib/python3.10/dist-packages (from sphinx->fica>=0.3.1->otter-grader) (2.2.0)\n",
            "Requirement already satisfied: babel>=1.3 in /usr/local/lib/python3.10/dist-packages (from sphinx->fica>=0.3.1->otter-grader) (2.16.0)\n",
            "Requirement already satisfied: alabaster<0.8,>=0.7 in /usr/local/lib/python3.10/dist-packages (from sphinx->fica>=0.3.1->otter-grader) (0.7.16)\n",
            "Requirement already satisfied: imagesize in /usr/local/lib/python3.10/dist-packages (from sphinx->fica>=0.3.1->otter-grader) (1.4.1)\n",
            "Requirement already satisfied: pyzmq>=13 in /usr/local/lib/python3.10/dist-packages (from jupyter-client->ipykernel>=4.5.1->ipywidgets->otter-grader) (24.0.1)\n",
            "Requirement already satisfied: argon2-cffi in /usr/local/lib/python3.10/dist-packages (from notebook>=4.4.1->widgetsnbextension~=3.6.0->ipywidgets->otter-grader) (23.1.0)\n",
            "Requirement already satisfied: nest-asyncio>=1.5 in /usr/local/lib/python3.10/dist-packages (from notebook>=4.4.1->widgetsnbextension~=3.6.0->ipywidgets->otter-grader) (1.6.0)\n",
            "Requirement already satisfied: Send2Trash>=1.8.0 in /usr/local/lib/python3.10/dist-packages (from notebook>=4.4.1->widgetsnbextension~=3.6.0->ipywidgets->otter-grader) (1.8.3)\n",
            "Requirement already satisfied: terminado>=0.8.3 in /usr/local/lib/python3.10/dist-packages (from notebook>=4.4.1->widgetsnbextension~=3.6.0->ipywidgets->otter-grader) (0.18.1)\n",
            "Requirement already satisfied: prometheus-client in /usr/local/lib/python3.10/dist-packages (from notebook>=4.4.1->widgetsnbextension~=3.6.0->ipywidgets->otter-grader) (0.20.0)\n",
            "Requirement already satisfied: nbclassic>=0.4.7 in /usr/local/lib/python3.10/dist-packages (from notebook>=4.4.1->widgetsnbextension~=3.6.0->ipywidgets->otter-grader) (1.1.0)\n",
            "Requirement already satisfied: notebook-shim>=0.2.3 in /usr/local/lib/python3.10/dist-packages (from nbclassic>=0.4.7->notebook>=4.4.1->widgetsnbextension~=3.6.0->ipywidgets->otter-grader) (0.2.4)\n",
            "Requirement already satisfied: argon2-cffi-bindings in /usr/local/lib/python3.10/dist-packages (from argon2-cffi->notebook>=4.4.1->widgetsnbextension~=3.6.0->ipywidgets->otter-grader) (21.2.0)\n",
            "Requirement already satisfied: jupyter-server<3,>=1.8 in /usr/local/lib/python3.10/dist-packages (from notebook-shim>=0.2.3->nbclassic>=0.4.7->notebook>=4.4.1->widgetsnbextension~=3.6.0->ipywidgets->otter-grader) (1.24.0)\n",
            "Requirement already satisfied: cffi>=1.0.1 in /usr/local/lib/python3.10/dist-packages (from argon2-cffi-bindings->argon2-cffi->notebook>=4.4.1->widgetsnbextension~=3.6.0->ipywidgets->otter-grader) (1.17.1)\n",
            "Requirement already satisfied: pycparser in /usr/local/lib/python3.10/dist-packages (from cffi>=1.0.1->argon2-cffi-bindings->argon2-cffi->notebook>=4.4.1->widgetsnbextension~=3.6.0->ipywidgets->otter-grader) (2.22)\n",
            "Requirement already satisfied: anyio<4,>=3.1.0 in /usr/local/lib/python3.10/dist-packages (from jupyter-server<3,>=1.8->notebook-shim>=0.2.3->nbclassic>=0.4.7->notebook>=4.4.1->widgetsnbextension~=3.6.0->ipywidgets->otter-grader) (3.7.1)\n",
            "Requirement already satisfied: websocket-client in /usr/local/lib/python3.10/dist-packages (from jupyter-server<3,>=1.8->notebook-shim>=0.2.3->nbclassic>=0.4.7->notebook>=4.4.1->widgetsnbextension~=3.6.0->ipywidgets->otter-grader) (1.8.0)\n",
            "Requirement already satisfied: sniffio>=1.1 in /usr/local/lib/python3.10/dist-packages (from anyio<4,>=3.1.0->jupyter-server<3,>=1.8->notebook-shim>=0.2.3->nbclassic>=0.4.7->notebook>=4.4.1->widgetsnbextension~=3.6.0->ipywidgets->otter-grader) (1.3.1)\n",
            "Requirement already satisfied: exceptiongroup in /usr/local/lib/python3.10/dist-packages (from anyio<4,>=3.1.0->jupyter-server<3,>=1.8->notebook-shim>=0.2.3->nbclassic>=0.4.7->notebook>=4.4.1->widgetsnbextension~=3.6.0->ipywidgets->otter-grader) (1.2.2)\n",
            "Downloading otter_grader-5.6.0-py3-none-any.whl (162 kB)\n",
            "\u001b[2K   \u001b[90m━━━━━━━━━━━━━━━━━━━━━━━━━━━━━━━━━━━━━━━━\u001b[0m \u001b[32m162.1/162.1 kB\u001b[0m \u001b[31m2.0 MB/s\u001b[0m eta \u001b[36m0:00:00\u001b[0m\n",
            "\u001b[?25hDownloading fica-0.4.0-py3-none-any.whl (13 kB)\n",
            "Downloading dill-0.3.8-py3-none-any.whl (116 kB)\n",
            "\u001b[2K   \u001b[90m━━━━━━━━━━━━━━━━━━━━━━━━━━━━━━━━━━━━━━━━\u001b[0m \u001b[32m116.3/116.3 kB\u001b[0m \u001b[31m7.0 MB/s\u001b[0m eta \u001b[36m0:00:00\u001b[0m\n",
            "\u001b[?25hDownloading ipylab-1.0.0-py3-none-any.whl (100 kB)\n",
            "\u001b[2K   \u001b[90m━━━━━━━━━━━━━━━━━━━━━━━━━━━━━━━━━━━━━━━━\u001b[0m \u001b[32m100.2/100.2 kB\u001b[0m \u001b[31m2.8 MB/s\u001b[0m eta \u001b[36m0:00:00\u001b[0m\n",
            "\u001b[?25hDownloading jupytext-1.16.4-py3-none-any.whl (153 kB)\n",
            "\u001b[2K   \u001b[90m━━━━━━━━━━━━━━━━━━━━━━━━━━━━━━━━━━━━━━━━\u001b[0m \u001b[32m153.5/153.5 kB\u001b[0m \u001b[31m3.6 MB/s\u001b[0m eta \u001b[36m0:00:00\u001b[0m\n",
            "\u001b[?25hDownloading python_on_whales-0.73.0-py3-none-any.whl (118 kB)\n",
            "\u001b[2K   \u001b[90m━━━━━━━━━━━━━━━━━━━━━━━━━━━━━━━━━━━━━━━━\u001b[0m \u001b[32m118.1/118.1 kB\u001b[0m \u001b[31m4.7 MB/s\u001b[0m eta \u001b[36m0:00:00\u001b[0m\n",
            "\u001b[?25hUsing cached jedi-0.19.1-py2.py3-none-any.whl (1.6 MB)\n",
            "Installing collected packages: jedi, dill, fica, python-on-whales, jupytext, ipylab, otter-grader\n",
            "Successfully installed dill-0.3.8 fica-0.4.0 ipylab-1.0.0 jedi-0.19.1 jupytext-1.16.4 otter-grader-5.6.0 python-on-whales-0.73.0\n"
          ]
        },
        {
          "ename": "ValueError",
          "evalue": "Tests directory ./tests does not exist",
          "output_type": "error",
          "traceback": [
            "\u001b[0;31m---------------------------------------------------------------------------\u001b[0m",
            "\u001b[0;31mValueError\u001b[0m                                Traceback (most recent call last)",
            "\u001b[0;32m<ipython-input-1-de63c2a7874d>\u001b[0m in \u001b[0;36m<cell line: 4>\u001b[0;34m()\u001b[0m\n\u001b[1;32m      2\u001b[0m \u001b[0mget_ipython\u001b[0m\u001b[0;34m(\u001b[0m\u001b[0;34m)\u001b[0m\u001b[0;34m.\u001b[0m\u001b[0msystem\u001b[0m\u001b[0;34m(\u001b[0m\u001b[0;34m'pip install otter-grader'\u001b[0m\u001b[0;34m)\u001b[0m\u001b[0;34m\u001b[0m\u001b[0;34m\u001b[0m\u001b[0m\n\u001b[1;32m      3\u001b[0m \u001b[0;32mimport\u001b[0m \u001b[0motter\u001b[0m\u001b[0;34m\u001b[0m\u001b[0;34m\u001b[0m\u001b[0m\n\u001b[0;32m----> 4\u001b[0;31m \u001b[0mgrader\u001b[0m \u001b[0;34m=\u001b[0m \u001b[0motter\u001b[0m\u001b[0;34m.\u001b[0m\u001b[0mNotebook\u001b[0m\u001b[0;34m(\u001b[0m\u001b[0;34m\"scraping_assignment.ipynb\"\u001b[0m\u001b[0;34m)\u001b[0m\u001b[0;34m\u001b[0m\u001b[0;34m\u001b[0m\u001b[0m\n\u001b[0m",
            "\u001b[0;32m/usr/local/lib/python3.10/dist-packages/otter/check/utils.py\u001b[0m in \u001b[0;36mevent_logger\u001b[0;34m(wrapped, self, args, kwargs)\u001b[0m\n\u001b[1;32m    215\u001b[0m         \u001b[0;32mexcept\u001b[0m \u001b[0mException\u001b[0m \u001b[0;32mas\u001b[0m \u001b[0me\u001b[0m\u001b[0;34m:\u001b[0m\u001b[0;34m\u001b[0m\u001b[0;34m\u001b[0m\u001b[0m\n\u001b[1;32m    216\u001b[0m             \u001b[0mself\u001b[0m\u001b[0;34m.\u001b[0m\u001b[0m_log_event\u001b[0m\u001b[0;34m(\u001b[0m\u001b[0mevent_type\u001b[0m\u001b[0;34m,\u001b[0m \u001b[0msuccess\u001b[0m\u001b[0;34m=\u001b[0m\u001b[0;32mFalse\u001b[0m\u001b[0;34m,\u001b[0m \u001b[0merror\u001b[0m\u001b[0;34m=\u001b[0m\u001b[0me\u001b[0m\u001b[0;34m)\u001b[0m\u001b[0;34m\u001b[0m\u001b[0;34m\u001b[0m\u001b[0m\n\u001b[0;32m--> 217\u001b[0;31m             \u001b[0;32mraise\u001b[0m \u001b[0me\u001b[0m\u001b[0;34m\u001b[0m\u001b[0;34m\u001b[0m\u001b[0m\n\u001b[0m\u001b[1;32m    218\u001b[0m \u001b[0;34m\u001b[0m\u001b[0m\n\u001b[1;32m    219\u001b[0m         \u001b[0;32mif\u001b[0m \u001b[0mret\u001b[0m \u001b[0;32mis\u001b[0m \u001b[0;32mNone\u001b[0m\u001b[0;34m:\u001b[0m\u001b[0;34m\u001b[0m\u001b[0;34m\u001b[0m\u001b[0m\n",
            "\u001b[0;32m/usr/local/lib/python3.10/dist-packages/otter/check/utils.py\u001b[0m in \u001b[0;36mevent_logger\u001b[0;34m(wrapped, self, args, kwargs)\u001b[0m\n\u001b[1;32m    211\u001b[0m         \"\"\"\n\u001b[1;32m    212\u001b[0m         \u001b[0;32mtry\u001b[0m\u001b[0;34m:\u001b[0m\u001b[0;34m\u001b[0m\u001b[0;34m\u001b[0m\u001b[0m\n\u001b[0;32m--> 213\u001b[0;31m             \u001b[0mret\u001b[0m\u001b[0;34m:\u001b[0m \u001b[0mOptional\u001b[0m\u001b[0;34m[\u001b[0m\u001b[0mLoggedEventReturnValue\u001b[0m\u001b[0;34m[\u001b[0m\u001b[0mT\u001b[0m\u001b[0;34m]\u001b[0m\u001b[0;34m]\u001b[0m \u001b[0;34m=\u001b[0m \u001b[0mwrapped\u001b[0m\u001b[0;34m(\u001b[0m\u001b[0;34m*\u001b[0m\u001b[0margs\u001b[0m\u001b[0;34m,\u001b[0m \u001b[0;34m**\u001b[0m\u001b[0mkwargs\u001b[0m\u001b[0;34m)\u001b[0m\u001b[0;34m\u001b[0m\u001b[0;34m\u001b[0m\u001b[0m\n\u001b[0m\u001b[1;32m    214\u001b[0m \u001b[0;34m\u001b[0m\u001b[0m\n\u001b[1;32m    215\u001b[0m         \u001b[0;32mexcept\u001b[0m \u001b[0mException\u001b[0m \u001b[0;32mas\u001b[0m \u001b[0me\u001b[0m\u001b[0;34m:\u001b[0m\u001b[0;34m\u001b[0m\u001b[0;34m\u001b[0m\u001b[0m\n",
            "\u001b[0;32m/usr/local/lib/python3.10/dist-packages/otter/check/notebook.py\u001b[0m in \u001b[0;36m__init__\u001b[0;34m(self, nb_path, tests_dir, tests_url_prefix, colab, jupyterlite)\u001b[0m\n\u001b[1;32m    111\u001b[0m \u001b[0;34m\u001b[0m\u001b[0m\n\u001b[1;32m    112\u001b[0m         \u001b[0;32mif\u001b[0m \u001b[0mself\u001b[0m\u001b[0;34m.\u001b[0m\u001b[0m_interpreter\u001b[0m \u001b[0;32mis\u001b[0m \u001b[0mIPythonInterpreter\u001b[0m\u001b[0;34m.\u001b[0m\u001b[0mCOLAB\u001b[0m \u001b[0;32mand\u001b[0m \u001b[0;32mnot\u001b[0m \u001b[0mos\u001b[0m\u001b[0;34m.\u001b[0m\u001b[0mpath\u001b[0m\u001b[0;34m.\u001b[0m\u001b[0misdir\u001b[0m\u001b[0;34m(\u001b[0m\u001b[0mtests_dir\u001b[0m\u001b[0;34m)\u001b[0m\u001b[0;34m:\u001b[0m\u001b[0;34m\u001b[0m\u001b[0;34m\u001b[0m\u001b[0m\n\u001b[0;32m--> 113\u001b[0;31m             \u001b[0;32mraise\u001b[0m \u001b[0mValueError\u001b[0m\u001b[0;34m(\u001b[0m\u001b[0;34mf\"Tests directory {tests_dir} does not exist\"\u001b[0m\u001b[0;34m)\u001b[0m\u001b[0;34m\u001b[0m\u001b[0;34m\u001b[0m\u001b[0m\n\u001b[0m\u001b[1;32m    114\u001b[0m \u001b[0;34m\u001b[0m\u001b[0m\n\u001b[1;32m    115\u001b[0m         \u001b[0;32mif\u001b[0m \u001b[0mtype\u001b[0m\u001b[0;34m(\u001b[0m\u001b[0mself\u001b[0m\u001b[0;34m)\u001b[0m\u001b[0;34m.\u001b[0m\u001b[0m_tests_dir_override\u001b[0m \u001b[0;32mis\u001b[0m \u001b[0;32mnot\u001b[0m \u001b[0;32mNone\u001b[0m\u001b[0;34m:\u001b[0m\u001b[0;34m\u001b[0m\u001b[0;34m\u001b[0m\u001b[0m\n",
            "\u001b[0;31mValueError\u001b[0m: Tests directory ./tests does not exist"
          ]
        }
      ],
      "source": [
        "# Initialize Otter\n",
        "!pip install otter-grader\n",
        "import otter\n",
        "grader = otter.Notebook(\"scraping_assignment.ipynb\")"
      ]
    },
    {
      "cell_type": "code",
      "execution_count": null,
      "id": "40f946db",
      "metadata": {
        "id": "40f946db"
      },
      "outputs": [],
      "source": [
        "from bs4 import BeautifulSoup\n",
        "import requests\n",
        "import numpy as np"
      ]
    },
    {
      "cell_type": "markdown",
      "id": "c045a56f",
      "metadata": {
        "id": "c045a56f"
      },
      "source": [
        "## 1. Get the full names of 5 star rating books in the first page."
      ]
    },
    {
      "cell_type": "markdown",
      "id": "b24b4960",
      "metadata": {
        "id": "b24b4960"
      },
      "source": [
        "Check this site [https://books.toscrape.com/catalogue/page-1.html](https://books.toscrape.com/catalogue/page-1.html).\n",
        "\n",
        "This is just the first page, and there are exactly 50 pages like this, you can just change `page-1` to `page-2` and so on.\n",
        "\n",
        "For this first question, Just get the names of books from `page-1` which got 5 star rating, as a list.  Names should be full. Find `img` tag for each book by inspecting the corresponding part in page, and check for full name of the book in the `alt` attribute of `img` tag. The variable name should be `fivestar_books`"
      ]
    },
    {
      "cell_type": "code",
      "execution_count": 17,
      "id": "e36c8e11",
      "metadata": {
        "colab": {
          "base_uri": "https://localhost:8080/"
        },
        "id": "e36c8e11",
        "outputId": "4765aab6-29c1-439a-864a-6ae3baf33ef5"
      },
      "outputs": [
        {
          "output_type": "stream",
          "name": "stdout",
          "text": [
            "['Sapiens: A Brief History of Humankind', 'Set Me Free', \"Scott Pilgrim's Precious Little Life (Scott Pilgrim #1)\", 'Rip it Up and Start Again']\n"
          ]
        }
      ],
      "source": [
        "import requests\n",
        "from bs4 import BeautifulSoup\n",
        "\n",
        "# URL of the first page\n",
        "url = 'https://books.toscrape.com/catalogue/page-1.html'\n",
        "\n",
        "# Fetch the page content\n",
        "response = requests.get(url)\n",
        "soup = BeautifulSoup(response.content, 'html.parser')\n",
        "\n",
        "# Find all book containers\n",
        "book_containers = soup.find_all('article', class_='product_pod')\n",
        "\n",
        "# List to hold the names of 5-star rated books\n",
        "fivestar_books = []\n",
        "\n",
        "# Loop through each book container\n",
        "for book in book_containers:\n",
        "    # Find the star rating\n",
        "    star_rating = book.find('p', class_='star-rating')\n",
        "\n",
        "    # Check if the book has a 5-star rating\n",
        "    if 'Five' in star_rating['class']:\n",
        "        # Find the image tag and get the full book name from the alt attribute\n",
        "        book_name = book.find('img')['alt']\n",
        "        fivestar_books.append(book_name)\n",
        "\n",
        "# Output the result\n",
        "print(fivestar_books)\n"
      ]
    },
    {
      "cell_type": "code",
      "execution_count": null,
      "id": "6951b66c",
      "metadata": {
        "colab": {
          "base_uri": "https://localhost:8080/",
          "height": 144
        },
        "id": "6951b66c",
        "outputId": "98688043-4daa-4df7-f611-3bd2bbfeb0b2"
      },
      "outputs": [
        {
          "ename": "NameError",
          "evalue": "name 'grader' is not defined",
          "output_type": "error",
          "traceback": [
            "\u001b[0;31m---------------------------------------------------------------------------\u001b[0m",
            "\u001b[0;31mNameError\u001b[0m                                 Traceback (most recent call last)",
            "\u001b[0;32m<ipython-input-21-e65af2900b1d>\u001b[0m in \u001b[0;36m<cell line: 1>\u001b[0;34m()\u001b[0m\n\u001b[0;32m----> 1\u001b[0;31m \u001b[0mgrader\u001b[0m\u001b[0;34m.\u001b[0m\u001b[0mcheck\u001b[0m\u001b[0;34m(\u001b[0m\u001b[0;34m\"q1\"\u001b[0m\u001b[0;34m)\u001b[0m\u001b[0;34m\u001b[0m\u001b[0;34m\u001b[0m\u001b[0m\n\u001b[0m",
            "\u001b[0;31mNameError\u001b[0m: name 'grader' is not defined"
          ]
        }
      ],
      "source": [
        "grader.check(\"q1\")"
      ]
    },
    {
      "cell_type": "markdown",
      "id": "18edb6eb",
      "metadata": {
        "id": "18edb6eb"
      },
      "source": [
        "## 2. Combined prices of All Saga books available in the chart"
      ]
    },
    {
      "cell_type": "markdown",
      "id": "bb7e41e1",
      "metadata": {
        "id": "bb7e41e1"
      },
      "source": [
        "Now Iterate over all 50 pages available to find books from Saga series. There are Saga 1,2,3,5,6 volumes available in the site. These you can get my matching pattern from the titles. Get the total prices of those five books. Return the float value (round nearest to two decimal points) and Don't change the currency. The variable name should be `total_price`"
      ]
    },
    {
      "cell_type": "code",
      "execution_count": 59,
      "id": "25bca842",
      "metadata": {
        "colab": {
          "base_uri": "https://localhost:8080/"
        },
        "id": "25bca842",
        "outputId": "5cf89091-1b13-47c6-d90b-c70e3e438b1e"
      },
      "outputs": [
        {
          "output_type": "stream",
          "name": "stdout",
          "text": [
            "Total price of Saga books: £137.86\n"
          ]
        }
      ],
      "source": [
        "import requests\n",
        "from bs4 import BeautifulSoup\n",
        "import re\n",
        "\n",
        "def get_book_price(book):\n",
        "    price = book.select_one('div.product_price p.price_color').text\n",
        "    return float(price[1:])  # Remove the '£' symbol and convert to float\n",
        "\n",
        "def is_saga_book(title):\n",
        "    return bool(re.match(r'Saga, Volume \\d+', title))\n",
        "\n",
        "total_price = 0\n",
        "saga_books_found = set()\n",
        "\n",
        "base_url = 'https://books.toscrape.com/catalogue/page-{}.html'\n",
        "\n",
        "for page in range(1, 51):  # Iterate through all 50 pages\n",
        "    url = base_url.format(page)\n",
        "    response = requests.get(url)\n",
        "    soup = BeautifulSoup(response.content, 'html.parser')\n",
        "\n",
        "    book_containers = soup.find_all('article', class_='product_pod')\n",
        "\n",
        "    for book in book_containers:\n",
        "        book_name = book.find('img')['alt']\n",
        "        if is_saga_book(book_name):\n",
        "            saga_volume = re.search(r'Volume (\\d+)', book_name).group(1)\n",
        "            if saga_volume not in saga_books_found and saga_volume in {'1', '2', '3', '5', '6'}:\n",
        "                saga_books_found.add(saga_volume)\n",
        "                total_price += get_book_price(book)\n",
        "\n",
        "    if len(saga_books_found) == 5:  # We've found all the Saga books we're looking for\n",
        "        break\n",
        "\n",
        "total_price = round(total_price, 2)\n",
        "print(f\"Total price of Saga books: £{total_price}\")"
      ]
    },
    {
      "cell_type": "code",
      "execution_count": null,
      "id": "5e302fb2",
      "metadata": {
        "id": "5e302fb2"
      },
      "outputs": [],
      "source": [
        "grader.check(\"q2\")"
      ]
    },
    {
      "cell_type": "markdown",
      "id": "fee1bfce",
      "metadata": {
        "id": "fee1bfce"
      },
      "source": [
        "## 3. Convert the above price to Dollars using given API"
      ]
    },
    {
      "cell_type": "markdown",
      "id": "78b5cd71",
      "metadata": {
        "id": "78b5cd71"
      },
      "source": [
        "Convert `total_price` to dollars using the given API. Pass the `total_price` to `pounds` as attribute in `params` for `requests.get`. Return float value, rounding to nearest two decimal points. The variable name should be `price_in_dollars`"
      ]
    },
    {
      "cell_type": "code",
      "execution_count": 62,
      "id": "0ef37793",
      "metadata": {
        "id": "0ef37793",
        "colab": {
          "base_uri": "https://localhost:8080/"
        },
        "outputId": "e9d4ff96-27c6-4a63-8d08-292be8c81eed"
      },
      "outputs": [
        {
          "output_type": "stream",
          "name": "stdout",
          "text": [
            "Total price of Saga books: £137.85999999999999\n",
            "Total price in Dollars: $175.08\n"
          ]
        }
      ],
      "source": [
        "\n",
        "def get_book_price(book):\n",
        "    # Extract the price and handle any issues with whitespace or characters\n",
        "    price = book.select_one('div.product_price p.price_color').text.strip()\n",
        "    # Remove any potential non-numeric characters (currency symbols) and convert to float\n",
        "    return float(re.sub(r'[^\\d.]', '', price))\n",
        "\n",
        "def is_saga_book(title):\n",
        "    # Match titles that are of the form \"Saga, Volume X\"\n",
        "    return bool(re.match(r'Saga, Volume \\d+', title))\n",
        "\n",
        "def convert_to_dollars(pounds):\n",
        "    api_url = 'https://currency-converter-spark-infra-105732.apps.shift.nerc.mghpcc.org/convert'\n",
        "    params = {'pounds': pounds}\n",
        "    response = requests.get(api_url, params=params)\n",
        "    # Assuming the API returns a JSON with a 'dollars' key containing the converted amount\n",
        "    if response.status_code == 200:\n",
        "        data = response.json()\n",
        "        return round(float(data['dollars']), 2)\n",
        "    else:\n",
        "        raise Exception('API request failed')\n",
        "\n",
        "total_price = 0\n",
        "saga_books_found = set()\n",
        "\n",
        "base_url = 'https://books.toscrape.com/catalogue/page-{}.html'\n",
        "\n",
        "for page in range(1, 51):  # Iterate through all 50 pages\n",
        "    url = base_url.format(page)\n",
        "    response = requests.get(url)\n",
        "    soup = BeautifulSoup(response.content, 'html.parser')\n",
        "\n",
        "    book_containers = soup.find_all('article', class_='product_pod')\n",
        "\n",
        "    for book in book_containers:\n",
        "        book_name = book.find('img')['alt']\n",
        "        if is_saga_book(book_name):\n",
        "            saga_volume = re.search(r'Volume (\\d+)', book_name).group(1)\n",
        "            if saga_volume not in saga_books_found and saga_volume in {'1', '2', '3', '5', '6'}:\n",
        "                saga_books_found.add(saga_volume)\n",
        "                total_price += get_book_price(book)\n",
        "\n",
        "    if len(saga_books_found) == 5:  # We've found all the Saga books we're looking for\n",
        "        break\n",
        "\n",
        "# Convert total price from pounds to dollars\n",
        "price_in_dollars = convert_to_dollars(total_price)\n",
        "print(f\"Total price of Saga books: £{total_price}\")\n",
        "print(f\"Total price in Dollars: ${price_in_dollars}\")\n"
      ]
    },
    {
      "cell_type": "code",
      "execution_count": null,
      "id": "b10722cb",
      "metadata": {
        "id": "b10722cb"
      },
      "outputs": [],
      "source": [
        "grader.check(\"q3\")"
      ]
    },
    {
      "cell_type": "markdown",
      "id": "920ae9a7",
      "metadata": {
        "id": "920ae9a7"
      },
      "source": [
        "## NOTE: Q 4, 5, & 6\n",
        "Check this site https://www.boxofficemojo.com/chart/top_lifetime_gross/ . For questions 4, 5, & 6, focus on the domestic only. Don't change to international.\n",
        "\n",
        "There are multiple pages, and you can use `params` argument in the `requests.get` to move across the pages, as discusssed in the lab"
      ]
    },
    {
      "cell_type": "markdown",
      "id": "edeae600",
      "metadata": {
        "id": "edeae600"
      },
      "source": [
        "## 4. List the movies in top 200 that released in or after 2020"
      ]
    },
    {
      "cell_type": "markdown",
      "id": "b2b839b3",
      "metadata": {
        "id": "b2b839b3"
      },
      "source": [
        "For this question, just focus on the first page, which has top 200 (you dont have to pass any headers or params) and get the movie names released in or after 2020, as a list. The variable name should be `movies_list`"
      ]
    },
    {
      "cell_type": "code",
      "execution_count": null,
      "id": "2b28d9f8",
      "metadata": {
        "id": "2b28d9f8"
      },
      "outputs": [],
      "source": [
        "grader.check(\"q4\")"
      ]
    },
    {
      "cell_type": "code",
      "source": [
        "import requests\n",
        "from bs4 import BeautifulSoup\n",
        "\n",
        "def get_movies_released_after_2020(url):\n",
        "    try:\n",
        "        # Fetch the page content\n",
        "        response = requests.get(url)\n",
        "        response.raise_for_status()  # Check if the request was successful\n",
        "        soup = BeautifulSoup(response.content, 'html.parser')\n",
        "\n",
        "        # Debug: Print the page content\n",
        "        print(soup.prettify()[:2000])  # Print the first 2000 characters for inspection\n",
        "\n",
        "        # Find the table containing the movie data\n",
        "        table = soup.find('table', {'class': 'a-bordered'})\n",
        "\n",
        "        if not table:\n",
        "            print(\"Table not found\")\n",
        "            return []\n",
        "\n",
        "        movies_list = []\n",
        "\n",
        "        rows = table.find_all('tr')\n",
        "\n",
        "        for row in rows[1:201]:  # Process up to 200 rows (excluding header)\n",
        "            cols = row.find_all('td')\n",
        "            if len(cols) > 2:  # Ensure there are enough columns\n",
        "                movie_name = cols[1].get_text(strip=True)\n",
        "                release_year = cols[2].get_text(strip=True)  # Assuming release year is in the 3rd column\n",
        "\n",
        "                # Debug: Print movie name and release year\n",
        "                print(f\"Movie: {movie_name}, Year: {release_year}\")\n",
        "\n",
        "                # Check if the release year is 2020 or later\n",
        "                if release_year.isdigit() and int(release_year) >= 2020:\n",
        "                    movies_list.append(movie_name)\n",
        "\n",
        "        return movies_list\n",
        "\n",
        "    except requests.RequestException as e:\n",
        "        print(f\"An error occurred: {e}\")\n",
        "        return []\n",
        "\n",
        "# Define the URL for the Box Office Mojo page\n",
        "url = 'https://www.boxofficemojo.com/chart/top_lifetime_gross/'\n",
        "\n",
        "# Get the list of movies released in or after 2020\n",
        "movies_list = get_movies_released_after_2020(url)\n",
        "print(\"Movies released in or after 2020:\")\n",
        "for movie in movies_list:\n",
        "    print(movie)\n"
      ],
      "metadata": {
        "colab": {
          "base_uri": "https://localhost:8080/"
        },
        "id": "6Po4i5Z1ogi6",
        "outputId": "7fc5e4e6-e305-4769-f38b-de3aeeaaac94"
      },
      "id": "6Po4i5Z1ogi6",
      "execution_count": 21,
      "outputs": [
        {
          "output_type": "stream",
          "name": "stdout",
          "text": [
            "<!DOCTYPE html>\n",
            "<html class=\"a-no-js\" data-19ax5a9jf=\"dingo\">\n",
            " <head>\n",
            "  <script>\n",
            "   var aPageStart = (new Date()).getTime();\n",
            "  </script>\n",
            "  <meta charset=\"utf-8\"/>\n",
            "  <script type=\"text/javascript\">\n",
            "   var ue_t0=ue_t0||+new Date();\n",
            "  </script>\n",
            "  <script type=\"text/javascript\">\n",
            "   window.ue_ihb = (window.ue_ihb || window.ueinit || 0) + 1;\n",
            "if (window.ue_ihb === 1) {\n",
            "\n",
            "var ue_csm = window,\n",
            "    ue_hob = +new Date();\n",
            "(function(d){var e=d.ue=d.ue||{},f=Date.now||function(){return+new Date};e.d=function(b){return f()-(b?0:d.ue_t0)};e.stub=function(b,a){if(!b[a]){var c=[];b[a]=function(){c.push([c.slice.call(arguments),e.d(),d.ue_id])};b[a].replay=function(b){for(var a;a=c.shift();)b(a[0],a[1],a[2])};b[a].isStub=1}};e.exec=function(b,a){return function(){try{return b.apply(this,arguments)}catch(c){ueLogError(c,{attribution:a||\"undefined\",logLevel:\"WARN\"})}}}})(ue_csm);\n",
            "\n",
            "\n",
            "    var ue_err_chan = 'jserr-rw';\n",
            "(function(d,e){function h(f,b){if(!(a.ec>a.mxe)&&f){a.ter.push(f);b=b||{};var c=f.logLevel||b.logLevel;c&&c!==k&&c!==m&&c!==n&&c!==p||a.ec++;c&&c!=k||a.ecf++;b.pageURL=\"\"+(e.location?e.location.href:\"\");b.logLevel=c;b.attribution=f.attribution||b.attribution;a.erl.push({ex:f,info:b})}}function l(a,b,c,e,g){d.ueLogError({m:a,f:b,l:c,c:\"\"+e,err:g,fromOnError:1,args:arguments},g?{attribution:g.attribution,logLevel:g.logLevel}:void 0);return!1}var k=\"FATAL\",m=\"ERROR\",n=\"WARN\",p=\"DOWNGRADED\",a={ec:0,ecf:0,\n",
            "pec:0,ts:0,erl:[],ter:[],buffer:[],mxe:50,startTimer:function(){a.ts++;setInterval(function(){d.ue&&a.pec<a.ec&&d.uex(\"at\");a.pec=a.ec},1E4)}};l.skipTrace=1;h.skipTrace=1;h.isStub=1;d.ueLogError=h;d.ue_err=a;e.onerror=l})(ue_csm,window);\n",
            "\n",
            "\n",
            "var ue_id = '6PYR0QFVSN602N9K85J4',\n",
            "    ue_url = '/uedata/uedata',\n",
            "    ue_navtiming = 1,\n",
            "    ue_mid = 'A3TEC2XMDTZJRD',\n",
            "    ue_sid = '135-5317131-6031619',\n",
            "    ue_sn = 'www.boxofficemojo.com',\n",
            "    ue_furl = 'fls-na.amazon.com',\n",
            "    ue_surl = 'https://unagi-na.amazon.com/1/events/com.amazon.csm.nexusclient.prod',\n",
            "    ue_int = 0,\n",
            "    ue_fcsn = 1,\n",
            "Movie: Star Wars: Episode VII - The Force Awakens, Year: $936,662,225\n",
            "Movie: Avengers: Endgame, Year: $858,373,000\n",
            "Movie: Spider-Man: No Way Home, Year: $814,866,759\n",
            "Movie: Avatar, Year: $785,221,649\n",
            "Movie: Top Gun: Maverick, Year: $718,732,821\n",
            "Movie: Black Panther, Year: $700,426,566\n",
            "Movie: Avatar: The Way of Water, Year: $684,075,767\n",
            "Movie: Avengers: Infinity War, Year: $678,815,482\n",
            "Movie: Titanic, Year: $674,292,608\n",
            "Movie: Jurassic World, Year: $653,406,625\n",
            "Movie: Inside Out 2, Year: $652,597,245\n",
            "Movie: Barbie, Year: $636,238,421\n",
            "Movie: The Avengers, Year: $623,357,910\n",
            "Movie: Star Wars: Episode VIII - The Last Jedi, Year: $620,181,382\n",
            "Movie: Deadpool & Wolverine, Year: $620,109,674\n",
            "Movie: Incredibles 2, Year: $608,581,744\n",
            "Movie: The Super Mario Bros. Movie, Year: $574,934,330\n",
            "Movie: The Lion King, Year: $543,638,043\n",
            "Movie: The Dark Knight, Year: $534,987,076\n",
            "Movie: Rogue One: A Star Wars Story, Year: $533,539,991\n",
            "Movie: Star Wars: Episode IX - The Rise of Skywalker, Year: $515,202,542\n",
            "Movie: Beauty and the Beast, Year: $504,481,165\n",
            "Movie: Star Wars: Episode I - The Phantom Menace, Year: $487,576,624\n",
            "Movie: Finding Dory, Year: $486,295,561\n",
            "Movie: Frozen II, Year: $477,373,578\n",
            "Movie: Star Wars: Episode IV - A New Hope, Year: $460,998,507\n",
            "Movie: Avengers: Age of Ultron, Year: $459,005,868\n",
            "Movie: Black Panther: Wakanda Forever, Year: $453,829,060\n",
            "Movie: The Dark Knight Rises, Year: $448,149,584\n",
            "Movie: Shrek 2, Year: $444,854,717\n",
            "Movie: E.T. the Extra-Terrestrial, Year: $439,454,989\n",
            "Movie: Toy Story 4, Year: $434,038,008\n",
            "Movie: Captain Marvel, Year: $426,829,839\n",
            "Movie: The Lion King, Year: $424,979,720\n",
            "Movie: The Hunger Games: Catching Fire, Year: $424,668,047\n",
            "Movie: Pirates of the Caribbean: Dead Man's Chest, Year: $423,315,812\n",
            "Movie: Jurassic World: Fallen Kingdom, Year: $417,719,760\n",
            "Movie: Toy Story 3, Year: $415,004,880\n",
            "Movie: Wonder Woman, Year: $412,845,172\n",
            "Movie: Doctor Strange in the Multiverse of Madness, Year: $411,331,607\n",
            "Movie: Iron Man 3, Year: $409,013,994\n",
            "Movie: Captain America: Civil War, Year: $408,084,349\n",
            "Movie: The Hunger Games, Year: $408,010,692\n",
            "Movie: Spider-Man, Year: $407,774,549\n",
            "Movie: Jurassic Park, Year: $407,185,075\n",
            "Movie: Jumanji: Welcome to the Jungle, Year: $404,540,171\n",
            "Movie: Transformers: Revenge of the Fallen, Year: $402,111,870\n",
            "Movie: Frozen, Year: $400,953,009\n",
            "Movie: Spider-Man: Far from Home, Year: $391,283,774\n",
            "Movie: Guardians of the Galaxy Vol. 2, Year: $389,813,101\n",
            "Movie: The Lord of the Rings: The Return of the King, Year: $381,878,219\n",
            "Movie: Spider-Man: Across the Spider-Verse, Year: $381,593,754\n",
            "Movie: Harry Potter and the Deathly Hallows: Part 2, Year: $381,447,587\n",
            "Movie: Finding Nemo, Year: $380,843,261\n",
            "Movie: Star Wars: Episode III - Revenge of the Sith, Year: $380,270,577\n",
            "Movie: Jurassic World Dominion, Year: $376,851,080\n",
            "Movie: Spider-Man 2, Year: $374,337,514\n",
            "Movie: The Passion of the Christ, Year: $370,782,930\n",
            "Movie: Minions: The Rise of Gru, Year: $370,270,765\n",
            "Movie: The Batman, Year: $369,345,583\n",
            "Movie: The Secret Life of Pets, Year: $368,623,860\n",
            "Movie: Despicable Me 2, Year: $368,065,385\n",
            "Movie: The Jungle Book, Year: $364,001,123\n",
            "Movie: Deadpool, Year: $363,070,709\n",
            "Movie: Despicable Me 4, Year: $359,458,905\n",
            "Movie: Guardians of the Galaxy Vol. 3, Year: $358,995,815\n",
            "Movie: Inside Out, Year: $356,461,711\n",
            "Movie: Aladdin, Year: $355,559,216\n",
            "Movie: Furious 7, Year: $353,007,020\n",
            "Movie: Transformers: Dark of the Moon, Year: $352,390,543\n",
            "Movie: American Sniper, Year: $350,159,020\n",
            "Movie: The Lord of the Rings: The Two Towers, Year: $345,518,923\n",
            "Movie: Thor: Love and Thunder, Year: $343,256,830\n",
            "Movie: Zootopia, Year: $341,268,248\n",
            "Movie: Spider-Man 3, Year: $337,281,992\n",
            "Movie: The Hunger Games: Mockingjay - Part 1, Year: $337,135,885\n",
            "Movie: Minions, Year: $336,045,770\n",
            "Movie: Joker, Year: $335,477,657\n",
            "Movie: Aquaman, Year: $335,104,314\n",
            "Movie: Spider-Man: Homecoming, Year: $334,952,829\n",
            "Movie: Alice in Wonderland, Year: $334,191,110\n",
            "Movie: Guardians of the Galaxy, Year: $333,718,600\n",
            "Movie: Forrest Gump, Year: $330,455,270\n",
            "Movie: Batman v Superman: Dawn of Justice, Year: $330,360,194\n",
            "Movie: Oppenheimer, Year: $329,862,540\n",
            "Movie: It, Year: $328,874,981\n",
            "Movie: Suicide Squad, Year: $325,100,054\n",
            "Movie: Deadpool 2, Year: $324,591,735\n",
            "Movie: Shrek the Third, Year: $322,719,944\n",
            "Movie: Jumanji: The Next Level, Year: $320,314,960\n",
            "Movie: The Lord of the Rings: The Fellowship of the Ring, Year: $319,372,078\n",
            "Movie: Transformers, Year: $319,246,193\n",
            "Movie: Iron Man, Year: $319,034,126\n",
            "Movie: Harry Potter and the Sorcerer's Stone, Year: $318,886,962\n",
            "Movie: Indiana Jones and the Kingdom of the Crystal Skull, Year: $317,101,119\n",
            "Movie: Star Wars: Episode VI - Return of the Jedi, Year: $316,566,101\n",
            "Movie: Thor: Ragnarok, Year: $315,058,289\n",
            "Movie: Iron Man 2, Year: $312,433,331\n",
            "Movie: Star Wars: Episode II - Attack of the Clones, Year: $310,676,740\n",
            "Movie: Pirates of the Caribbean: At World's End, Year: $309,420,425\n",
            "Movie: Independence Day, Year: $306,169,268\n",
            "Movie: Pirates of the Caribbean: The Curse of the Black Pearl, Year: $305,413,918\n",
            "Movie: Skyfall, Year: $304,360,277\n",
            "Movie: The Hobbit: An Unexpected Journey, Year: $303,030,651\n",
            "Movie: Harry Potter and the Half-Blood Prince, Year: $302,334,374\n",
            "Movie: The Twilight Saga: Eclipse, Year: $300,531,751\n",
            "Movie: The Little Mermaid, Year: $298,172,056\n",
            "Movie: The Twilight Saga: New Moon, Year: $297,816,253\n",
            "Movie: Harry Potter and the Deathly Hallows: Part 1, Year: $296,374,621\n",
            "Movie: The Sixth Sense, Year: $293,506,292\n",
            "Movie: Up, Year: $293,004,164\n",
            "Movie: Star Wars: Episode V - The Empire Strikes Back, Year: $292,753,960\n",
            "Movie: Inception, Year: $292,587,330\n",
            "Movie: Harry Potter and the Order of the Phoenix, Year: $292,382,727\n",
            "Movie: The Twilight Saga: Breaking Dawn - Part 2, Year: $292,324,737\n",
            "Movie: The Chronicles of Narnia: The Lion, the Witch and the Wardrobe, Year: $291,710,957\n",
            "Movie: Man of Steel, Year: $291,045,518\n",
            "Movie: Monsters, Inc., Year: $290,642,256\n",
            "Movie: Harry Potter and the Goblet of Fire, Year: $290,469,928\n",
            "Movie: Home Alone, Year: $285,761,243\n",
            "Movie: Dune: Part Two, Year: $282,144,358\n",
            "Movie: The Hunger Games: Mockingjay - Part 2, Year: $281,723,902\n",
            "Movie: The Matrix Reloaded, Year: $281,576,461\n",
            "Movie: The Twilight Saga: Breaking Dawn - Part 1, Year: $281,287,133\n",
            "Movie: Meet the Fockers, Year: $279,261,160\n",
            "Movie: The Hangover, Year: $277,339,746\n",
            "Movie: Gravity, Year: $274,092,705\n",
            "Movie: The Grinch, Year: $272,242,291\n",
            "Movie: Sing, Year: $270,578,425\n",
            "Movie: Monsters University, Year: $268,492,764\n",
            "Movie: Shrek, Year: $268,349,831\n",
            "Movie: Jaws, Year: $266,567,580\n",
            "Movie: Twisters, Year: $266,335,725\n",
            "Movie: Despicable Me 3, Year: $264,624,300\n",
            "Movie: The Amazing Spider-Man, Year: $262,782,352\n",
            "Movie: Harry Potter and the Chamber of Secrets, Year: $262,641,637\n",
            "Movie: The Incredibles, Year: $261,441,092\n",
            "Movie: How the Grinch Stole Christmas, Year: $261,415,800\n",
            "Movie: Captain America: The Winter Soldier, Year: $259,766,572\n",
            "Movie: The Hobbit: The Desolation of Smaug, Year: $258,387,334\n",
            "Movie: The Lego Movie, Year: $257,966,122\n",
            "Movie: Star Trek, Year: $257,730,019\n",
            "Movie: I Am Legend, Year: $256,393,010\n",
            "Movie: The Blind Side, Year: $255,982,860\n",
            "Movie: The Hobbit: The Battle of the Five Armies, Year: $255,138,261\n",
            "Movie: The Hangover Part II, Year: $254,464,305\n",
            "Movie: Despicable Me, Year: $251,683,815\n",
            "Movie: Batman, Year: $251,409,241\n",
            "Movie: Night at the Museum, Year: $250,863,268\n",
            "Movie: Men in Black, Year: $250,690,539\n",
            "Movie: Harry Potter and the Prisoner of Azkaban, Year: $250,105,651\n",
            "Movie: Moana, Year: $248,757,044\n",
            "Movie: Raiders of the Lost Ark, Year: $248,159,971\n",
            "Movie: Toy Story 2, Year: $245,852,179\n",
            "Movie: Transformers: Age of Extinction, Year: $245,439,076\n",
            "Movie: Cars, Year: $244,082,982\n",
            "Movie: Ghostbusters, Year: $243,578,797\n",
            "Movie: Bruce Almighty, Year: $242,829,261\n",
            "Movie: Twister, Year: $241,830,615\n",
            "Movie: My Big Fat Greek Wedding, Year: $241,438,208\n",
            "Movie: Maleficent, Year: $241,410,378\n",
            "Movie: Pirates of the Caribbean: On Stranger Tides, Year: $241,071,802\n",
            "Movie: Shrek Forever After, Year: $238,736,787\n",
            "Movie: Fast & Furious 6, Year: $238,679,850\n",
            "Movie: Brave, Year: $237,283,207\n",
            "Movie: Oz the Great and Powerful, Year: $234,911,825\n",
            "Movie: Beverly Hills Cop, Year: $234,760,478\n",
            "Movie: X-Men: The Last Stand, Year: $234,362,462\n",
            "Movie: War of the Worlds, Year: $234,280,354\n",
            "Movie: Fantastic Beasts and Where to Find Them, Year: $234,037,575\n",
            "Movie: X-Men: Days of Future Past, Year: $233,921,534\n",
            "Movie: Cast Away, Year: $233,632,142\n",
            "Movie: The Exorcist, Year: $233,005,644\n",
            "Movie: Doctor Strange, Year: $232,641,920\n",
            "Movie: The Lost World: Jurassic Park, Year: $229,086,679\n",
            "Movie: Justice League, Year: $229,024,295\n",
            "Movie: Star Trek Into Darkness, Year: $228,778,661\n",
            "Movie: The Martian, Year: $228,433,663\n",
            "Movie: Signs, Year: $227,966,634\n",
            "Movie: Hancock, Year: $227,946,274\n",
            "Movie: The Bourne Ultimatum, Year: $227,471,070\n",
            "Movie: Logan, Year: $226,277,068\n",
            "Movie: Rush Hour 2, Year: $226,164,286\n",
            "Movie: The Fate of the Furious, Year: $226,008,385\n",
            "Movie: Shang-Chi and the Legend of the Ten Rings, Year: $224,543,292\n",
            "Movie: WALL·E, Year: $223,808,164\n",
            "Movie: Toy Story, Year: $223,225,679\n",
            "Movie: Big Hero 6, Year: $222,527,828\n",
            "Movie: Mission: Impossible - Fallout, Year: $220,159,104\n",
            "Movie: National Treasure: Book of Secrets, Year: $219,964,115\n",
            "Movie: Alvin and the Chipmunks: The Squeakquel, Year: $219,614,612\n",
            "Movie: Mrs. Doubtfire, Year: $219,195,243\n",
            "Movie: Beauty and the Beast, Year: $218,967,620\n",
            "Movie: Ted, Year: $218,815,487\n",
            "Movie: Wonka, Year: $218,402,312\n",
            "Movie: King Kong, Year: $218,080,025\n",
            "Movie: Ghost, Year: $217,631,306\n",
            "Movie: How to Train Your Dragon, Year: $217,581,231\n",
            "Movie: The Da Vinci Code, Year: $217,536,138\n",
            "Movie: Aladdin, Year: $217,350,219\n",
            "Movies released in or after 2020:\n"
          ]
        }
      ]
    },
    {
      "cell_type": "markdown",
      "id": "df7b65f7",
      "metadata": {
        "id": "df7b65f7"
      },
      "source": [
        "## 5. List the Terminator movies present in the chart\n"
      ]
    },
    {
      "cell_type": "markdown",
      "id": "ef306bd6",
      "metadata": {
        "id": "ef306bd6"
      },
      "source": [
        "Now Iterate over all 1000 movies available to find Terminator movies in the chart. These you can get my matching pattern from the titles. Get the list of Terminator movies present, as a list. The variable name should be `terminator_movies_list` [ Hint: Just movies which has the word `terminator` present in the title (case insensitive).]"
      ]
    },
    {
      "cell_type": "code",
      "execution_count": 25,
      "id": "2777c1c7",
      "metadata": {
        "colab": {
          "base_uri": "https://localhost:8080/"
        },
        "id": "2777c1c7",
        "outputId": "dd331ddc-8201-4ac6-9f76-e93801dccdbb"
      },
      "outputs": [
        {
          "output_type": "stream",
          "name": "stdout",
          "text": [
            "<!DOCTYPE html>\n",
            "<html class=\"a-no-js\" data-19ax5a9jf=\"dingo\">\n",
            " <head>\n",
            "  <script>\n",
            "   var aPageStart = (new Date()).getTime();\n",
            "  </script>\n",
            "  <meta charset=\"utf-8\"/>\n",
            "  <script type=\"text/javascript\">\n",
            "   var ue_t0=ue_t0||+new Date();\n",
            "  </script>\n",
            "  <script type=\"text/javascript\">\n",
            "   window.ue_ihb = (window.ue_ihb || window.ueinit || 0) + 1;\n",
            "if (window.ue_ihb === 1) {\n",
            "\n",
            "var ue_csm = window,\n",
            "    ue_hob = +new Date();\n",
            "(function(d){var e=d.ue=d.ue||{},f=Date.now||function(){return+new Date};e.d=function(b){return f()-(b?0:d.ue_t0)};e.stub=function(b,a){if(!b[a]){var c=[];b[a]=function(){c.push([c.slice.call(arguments),e.d(),d.ue_id])};b[a].replay=function(b){for(var a;a=c.shift();)b(a[0],a[1],a[2])};b[a].isStub=1}};e.exec=function(b,a){return function(){try{return b.apply(this,arguments)}catch(c){ueLogError(c,{attribution:a||\"undefined\",logLevel:\"WARN\"})}}}})(ue_csm);\n",
            "\n",
            "\n",
            "    var ue_err_chan = 'jserr-rw';\n",
            "(function(d,e){function h(f,b){if(!(a.ec>a.mxe)&&f){a.ter.push(f);b=b||{};var c=f.logLevel||b.logLevel;c&&c!==k&&c!==m&&c!==n&&c!==p||a.ec++;c&&c!=k||a.ecf++;b.pageURL=\"\"+(e.location?e.location.href:\"\");b.logLevel=c;b.attribution=f.attribution||b.attribution;a.erl.push({ex:f,info:b})}}function l(a,b,c,e,g){d.ueLogError({m:a,f:b,l:c,c:\"\"+e,err:g,fromOnError:1,args:arguments},g?{attribution:g.attribution,logLevel:g.logLevel}:void 0);return!1}var k=\"FATAL\",m=\"ERROR\",n=\"WARN\",p=\"DOWNGRADED\",a={ec:0,ecf:0,\n",
            "pec:0,ts:0,erl:[],ter:[],buffer:[],mxe:50,startTimer:function(){a.ts++;setInterval(function(){d.ue&&a.pec<a.ec&&d.uex(\"at\");a.pec=a.ec},1E4)}};l.skipTrace=1;h.skipTrace=1;h.isStub=1;d.ueLogError=h;d.ue_err=a;e.onerror=l})(ue_csm,window);\n",
            "\n",
            "\n",
            "var ue_id = 'X3A0A7NDJMBWN66R68DW',\n",
            "    ue_url = '/uedata/uedata',\n",
            "    ue_navtiming = 1,\n",
            "    ue_mid = 'A3TEC2XMDTZJRD',\n",
            "    ue_sid = '135-0904789-8983666',\n",
            "    ue_sn = 'www.boxofficemojo.com',\n",
            "    ue_furl = 'fls-na.amazon.com',\n",
            "    ue_surl = 'https://unagi-na.amazon.com/1/events/com.amazon.csm.nexusclient.prod',\n",
            "    ue_int = 0,\n",
            "    ue_fcsn = 1,\n",
            "Checking movie: Star Wars: Episode VII - The Force Awakens\n",
            "Checking movie: Avengers: Endgame\n",
            "Checking movie: Spider-Man: No Way Home\n",
            "Checking movie: Avatar\n",
            "Checking movie: Top Gun: Maverick\n",
            "Checking movie: Black Panther\n",
            "Checking movie: Avatar: The Way of Water\n",
            "Checking movie: Avengers: Infinity War\n",
            "Checking movie: Titanic\n",
            "Checking movie: Jurassic World\n",
            "Checking movie: Inside Out 2\n",
            "Checking movie: Barbie\n",
            "Checking movie: The Avengers\n",
            "Checking movie: Star Wars: Episode VIII - The Last Jedi\n",
            "Checking movie: Deadpool & Wolverine\n",
            "Checking movie: Incredibles 2\n",
            "Checking movie: The Super Mario Bros. Movie\n",
            "Checking movie: The Lion King\n",
            "Checking movie: The Dark Knight\n",
            "Checking movie: Rogue One: A Star Wars Story\n",
            "Checking movie: Star Wars: Episode IX - The Rise of Skywalker\n",
            "Checking movie: Beauty and the Beast\n",
            "Checking movie: Star Wars: Episode I - The Phantom Menace\n",
            "Checking movie: Finding Dory\n",
            "Checking movie: Frozen II\n",
            "Checking movie: Star Wars: Episode IV - A New Hope\n",
            "Checking movie: Avengers: Age of Ultron\n",
            "Checking movie: Black Panther: Wakanda Forever\n",
            "Checking movie: The Dark Knight Rises\n",
            "Checking movie: Shrek 2\n",
            "Checking movie: E.T. the Extra-Terrestrial\n",
            "Checking movie: Toy Story 4\n",
            "Checking movie: Captain Marvel\n",
            "Checking movie: The Lion King\n",
            "Checking movie: The Hunger Games: Catching Fire\n",
            "Checking movie: Pirates of the Caribbean: Dead Man's Chest\n",
            "Checking movie: Jurassic World: Fallen Kingdom\n",
            "Checking movie: Toy Story 3\n",
            "Checking movie: Wonder Woman\n",
            "Checking movie: Doctor Strange in the Multiverse of Madness\n",
            "Checking movie: Iron Man 3\n",
            "Checking movie: Captain America: Civil War\n",
            "Checking movie: The Hunger Games\n",
            "Checking movie: Spider-Man\n",
            "Checking movie: Jurassic Park\n",
            "Checking movie: Jumanji: Welcome to the Jungle\n",
            "Checking movie: Transformers: Revenge of the Fallen\n",
            "Checking movie: Frozen\n",
            "Checking movie: Spider-Man: Far from Home\n",
            "Checking movie: Guardians of the Galaxy Vol. 2\n",
            "Checking movie: The Lord of the Rings: The Return of the King\n",
            "Checking movie: Spider-Man: Across the Spider-Verse\n",
            "Checking movie: Harry Potter and the Deathly Hallows: Part 2\n",
            "Checking movie: Finding Nemo\n",
            "Checking movie: Star Wars: Episode III - Revenge of the Sith\n",
            "Checking movie: Jurassic World Dominion\n",
            "Checking movie: Spider-Man 2\n",
            "Checking movie: The Passion of the Christ\n",
            "Checking movie: Minions: The Rise of Gru\n",
            "Checking movie: The Batman\n",
            "Checking movie: The Secret Life of Pets\n",
            "Checking movie: Despicable Me 2\n",
            "Checking movie: The Jungle Book\n",
            "Checking movie: Deadpool\n",
            "Checking movie: Despicable Me 4\n",
            "Checking movie: Guardians of the Galaxy Vol. 3\n",
            "Checking movie: Inside Out\n",
            "Checking movie: Aladdin\n",
            "Checking movie: Furious 7\n",
            "Checking movie: Transformers: Dark of the Moon\n",
            "Checking movie: American Sniper\n",
            "Checking movie: The Lord of the Rings: The Two Towers\n",
            "Checking movie: Thor: Love and Thunder\n",
            "Checking movie: Zootopia\n",
            "Checking movie: Spider-Man 3\n",
            "Checking movie: The Hunger Games: Mockingjay - Part 1\n",
            "Checking movie: Minions\n",
            "Checking movie: Joker\n",
            "Checking movie: Aquaman\n",
            "Checking movie: Spider-Man: Homecoming\n",
            "Checking movie: Alice in Wonderland\n",
            "Checking movie: Guardians of the Galaxy\n",
            "Checking movie: Forrest Gump\n",
            "Checking movie: Batman v Superman: Dawn of Justice\n",
            "Checking movie: Oppenheimer\n",
            "Checking movie: It\n",
            "Checking movie: Suicide Squad\n",
            "Checking movie: Deadpool 2\n",
            "Checking movie: Shrek the Third\n",
            "Checking movie: Jumanji: The Next Level\n",
            "Checking movie: The Lord of the Rings: The Fellowship of the Ring\n",
            "Checking movie: Transformers\n",
            "Checking movie: Iron Man\n",
            "Checking movie: Harry Potter and the Sorcerer's Stone\n",
            "Checking movie: Indiana Jones and the Kingdom of the Crystal Skull\n",
            "Checking movie: Star Wars: Episode VI - Return of the Jedi\n",
            "Checking movie: Thor: Ragnarok\n",
            "Checking movie: Iron Man 2\n",
            "Checking movie: Star Wars: Episode II - Attack of the Clones\n",
            "Checking movie: Pirates of the Caribbean: At World's End\n",
            "Checking movie: Independence Day\n",
            "Checking movie: Pirates of the Caribbean: The Curse of the Black Pearl\n",
            "Checking movie: Skyfall\n",
            "Checking movie: The Hobbit: An Unexpected Journey\n",
            "Checking movie: Harry Potter and the Half-Blood Prince\n",
            "Checking movie: The Twilight Saga: Eclipse\n",
            "Checking movie: The Little Mermaid\n",
            "Checking movie: The Twilight Saga: New Moon\n",
            "Checking movie: Harry Potter and the Deathly Hallows: Part 1\n",
            "Checking movie: The Sixth Sense\n",
            "Checking movie: Up\n",
            "Checking movie: Star Wars: Episode V - The Empire Strikes Back\n",
            "Checking movie: Inception\n",
            "Checking movie: Harry Potter and the Order of the Phoenix\n",
            "Checking movie: The Twilight Saga: Breaking Dawn - Part 2\n",
            "Checking movie: The Chronicles of Narnia: The Lion, the Witch and the Wardrobe\n",
            "Checking movie: Man of Steel\n",
            "Checking movie: Monsters, Inc.\n",
            "Checking movie: Harry Potter and the Goblet of Fire\n",
            "Checking movie: Home Alone\n",
            "Checking movie: Dune: Part Two\n",
            "Checking movie: The Hunger Games: Mockingjay - Part 2\n",
            "Checking movie: The Matrix Reloaded\n",
            "Checking movie: The Twilight Saga: Breaking Dawn - Part 1\n",
            "Checking movie: Meet the Fockers\n",
            "Checking movie: The Hangover\n",
            "Checking movie: Gravity\n",
            "Checking movie: The Grinch\n",
            "Checking movie: Sing\n",
            "Checking movie: Monsters University\n",
            "Checking movie: Shrek\n",
            "Checking movie: Jaws\n",
            "Checking movie: Twisters\n",
            "Checking movie: Despicable Me 3\n",
            "Checking movie: The Amazing Spider-Man\n",
            "Checking movie: Harry Potter and the Chamber of Secrets\n",
            "Checking movie: The Incredibles\n",
            "Checking movie: How the Grinch Stole Christmas\n",
            "Checking movie: Captain America: The Winter Soldier\n",
            "Checking movie: The Hobbit: The Desolation of Smaug\n",
            "Checking movie: The Lego Movie\n",
            "Checking movie: Star Trek\n",
            "Checking movie: I Am Legend\n",
            "Checking movie: The Blind Side\n",
            "Checking movie: The Hobbit: The Battle of the Five Armies\n",
            "Checking movie: The Hangover Part II\n",
            "Checking movie: Despicable Me\n",
            "Checking movie: Batman\n",
            "Checking movie: Night at the Museum\n",
            "Checking movie: Men in Black\n",
            "Checking movie: Harry Potter and the Prisoner of Azkaban\n",
            "Checking movie: Moana\n",
            "Checking movie: Raiders of the Lost Ark\n",
            "Checking movie: Toy Story 2\n",
            "Checking movie: Transformers: Age of Extinction\n",
            "Checking movie: Cars\n",
            "Checking movie: Ghostbusters\n",
            "Checking movie: Bruce Almighty\n",
            "Checking movie: Twister\n",
            "Checking movie: My Big Fat Greek Wedding\n",
            "Checking movie: Maleficent\n",
            "Checking movie: Pirates of the Caribbean: On Stranger Tides\n",
            "Checking movie: Shrek Forever After\n",
            "Checking movie: Fast & Furious 6\n",
            "Checking movie: Brave\n",
            "Checking movie: Oz the Great and Powerful\n",
            "Checking movie: Beverly Hills Cop\n",
            "Checking movie: X-Men: The Last Stand\n",
            "Checking movie: War of the Worlds\n",
            "Checking movie: Fantastic Beasts and Where to Find Them\n",
            "Checking movie: X-Men: Days of Future Past\n",
            "Checking movie: Cast Away\n",
            "Checking movie: The Exorcist\n",
            "Checking movie: Doctor Strange\n",
            "Checking movie: The Lost World: Jurassic Park\n",
            "Checking movie: Justice League\n",
            "Checking movie: Star Trek Into Darkness\n",
            "Checking movie: The Martian\n",
            "Checking movie: Signs\n",
            "Checking movie: Hancock\n",
            "Checking movie: The Bourne Ultimatum\n",
            "Checking movie: Logan\n",
            "Checking movie: Rush Hour 2\n",
            "Checking movie: The Fate of the Furious\n",
            "Checking movie: Shang-Chi and the Legend of the Ten Rings\n",
            "Checking movie: WALL·E\n",
            "Checking movie: Toy Story\n",
            "Checking movie: Big Hero 6\n",
            "Checking movie: Mission: Impossible - Fallout\n",
            "Checking movie: National Treasure: Book of Secrets\n",
            "Checking movie: Alvin and the Chipmunks: The Squeakquel\n",
            "Checking movie: Mrs. Doubtfire\n",
            "Checking movie: Beauty and the Beast\n",
            "Checking movie: Ted\n",
            "Checking movie: Wonka\n",
            "Checking movie: King Kong\n",
            "Checking movie: Ghost\n",
            "Checking movie: How to Train Your Dragon\n",
            "Checking movie: The Da Vinci Code\n",
            "Checking movie: Aladdin\n",
            "Terminator movies present in the chart:\n"
          ]
        }
      ],
      "source": [
        "import requests\n",
        "from bs4 import BeautifulSoup\n",
        "\n",
        "def get_terminator_movies(url):\n",
        "    try:\n",
        "        # Fetch the page content\n",
        "        response = requests.get(url)\n",
        "        response.raise_for_status()  # Check if the request was successful\n",
        "        soup = BeautifulSoup(response.content, 'html.parser')\n",
        "\n",
        "        # Print the first 2000 characters of the HTML to debug\n",
        "        print(soup.prettify()[:2000])\n",
        "\n",
        "        # Find the table containing the movie data\n",
        "        table = soup.find('table', {'class': 'a-bordered'})\n",
        "\n",
        "        if not table:\n",
        "            print(\"Table not found\")\n",
        "            return []\n",
        "\n",
        "        terminator_movies_list = []\n",
        "\n",
        "        rows = table.find_all('tr')\n",
        "\n",
        "        for row in rows[1:1001]:  # Process up to 1000 rows (excluding header)\n",
        "            cols = row.find_all('td')\n",
        "            if len(cols) > 2:  # Ensure there are enough columns\n",
        "                movie_name = cols[1].get_text(strip=True)\n",
        "\n",
        "                # Debug: Print each movie name\n",
        "                print(f\"Checking movie: {movie_name}\")\n",
        "\n",
        "                # Check if \"Terminator\" is in the movie title (case insensitive)\n",
        "                if 'terminator' in movie_name.lower():\n",
        "                    terminator_movies_list.append(movie_name)\n",
        "\n",
        "        return terminator_movies_list\n",
        "\n",
        "    except requests.RequestException as e:\n",
        "        print(f\"An error occurred: {e}\")\n",
        "        return []\n",
        "\n",
        "# Define the URL for the Box Office Mojo page\n",
        "url = 'https://www.boxofficemojo.com/chart/top_lifetime_gross/'\n",
        "\n",
        "# Get the list of Terminator movies\n",
        "terminator_movies_list = get_terminator_movies(url)\n",
        "print(\"Terminator movies present in the chart:\")\n",
        "for movie in terminator_movies_list:\n",
        "    print(movie)\n",
        "\n"
      ]
    },
    {
      "cell_type": "code",
      "execution_count": null,
      "id": "854af097",
      "metadata": {
        "id": "854af097"
      },
      "outputs": [],
      "source": [
        "grader.check(\"q5\")"
      ]
    },
    {
      "cell_type": "markdown",
      "id": "e2dda726",
      "metadata": {
        "id": "e2dda726"
      },
      "source": [
        "## Question 6\n",
        "\n",
        "Calculate the combined gross of all 4 Avengers Movies (Domestic Only)"
      ]
    },
    {
      "cell_type": "code",
      "execution_count": 7,
      "id": "261a9588",
      "metadata": {
        "id": "261a9588",
        "colab": {
          "base_uri": "https://localhost:8080/"
        },
        "outputId": "d443aa8f-2aee-4ca9-a802-33c2e8fb025a"
      },
      "outputs": [
        {
          "output_type": "stream",
          "name": "stdout",
          "text": [
            "Combined domestic gross of all Avengers movies: $8,064\n"
          ]
        }
      ],
      "source": [
        "\n",
        "def get_avengers_gross(url):\n",
        "    try:\n",
        "        # Fetch the page content\n",
        "        response = requests.get(url)\n",
        "        response.raise_for_status()  # Check if the request was successful\n",
        "        soup = BeautifulSoup(response.content, 'html.parser')\n",
        "\n",
        "        # Find the table containing the movie data\n",
        "        table = soup.find('table', {'class': 'a-bordered'})\n",
        "\n",
        "        if not table:\n",
        "            print(\"Table not found\")\n",
        "            return []\n",
        "\n",
        "        avengers_movies = ['Avengers', 'Avengers: Age of Ultron', 'Avengers: Infinity War', 'Avengers: Endgame']\n",
        "        avengers_gross = {}\n",
        "\n",
        "        rows = table.find_all('tr')\n",
        "\n",
        "        for row in rows[1:1001]:  # Process up to 1000 rows (excluding header)\n",
        "            cols = row.find_all('td')\n",
        "            if len(cols) > 2:  # Ensure there are enough columns\n",
        "                movie_name = cols[1].get_text(strip=True)\n",
        "                domestic_gross = cols[3].get_text(strip=True)  # Assuming domestic gross is in the 4th column\n",
        "\n",
        "                # Extract the numeric part of the gross amount\n",
        "                domestic_gross_value = ''.join(filter(str.isdigit, domestic_gross))  # Remove commas and currency symbols\n",
        "                try:\n",
        "                    domestic_gross_value = int(domestic_gross_value)\n",
        "                    if any(avenger in movie_name for avenger in avengers_movies):\n",
        "                        avengers_gross[movie_name] = domestic_gross_value\n",
        "                except ValueError:\n",
        "                    continue\n",
        "\n",
        "        # Calculate the combined gross\n",
        "        combined_gross = sum(avengers_gross.values())\n",
        "        return combined_gross\n",
        "\n",
        "    except requests.RequestException as e:\n",
        "        print(f\"An error occurred: {e}\")\n",
        "        return []\n",
        "\n",
        "# Define the URL for the Box Office Mojo page\n",
        "url = 'https://www.boxofficemojo.com/chart/top_lifetime_gross/'\n",
        "\n",
        "# Get the combined gross of all Avengers movies\n",
        "combined_gross = get_avengers_gross(url)\n",
        "print(f\"Combined domestic gross of all Avengers movies: ${combined_gross:,}\")\n",
        "\n"
      ]
    },
    {
      "cell_type": "code",
      "execution_count": null,
      "id": "5ef18957",
      "metadata": {
        "id": "5ef18957"
      },
      "outputs": [],
      "source": [
        "grader.check(\"q6\")"
      ]
    },
    {
      "cell_type": "markdown",
      "id": "652a79f1",
      "metadata": {
        "id": "652a79f1"
      },
      "source": [
        "## Question 7.\n",
        "\n",
        "Get the companies belonging to \"Oil and gas\" industry out of the set of 50 largest companies on this [wikipedia page](https://en.wikipedia.org/wiki/List_of_largest_companies_by_revenue):  "
      ]
    },
    {
      "cell_type": "code",
      "execution_count": null,
      "id": "62fa784d",
      "metadata": {
        "id": "62fa784d"
      },
      "outputs": [],
      "source": [
        "grader.check(\"q7\")"
      ]
    },
    {
      "cell_type": "code",
      "source": [
        "import requests\n",
        "from bs4 import BeautifulSoup\n",
        "import pandas as pd\n",
        "\n",
        "# Define the URL\n",
        "url = 'https://en.wikipedia.org/wiki/List_of_largest_companies_by_revenue'\n",
        "\n",
        "# Send a GET request to fetch the page content\n",
        "response = requests.get(url)\n",
        "\n",
        "# Parse the page content with BeautifulSoup\n",
        "soup = BeautifulSoup(response.text, 'html.parser')\n",
        "\n",
        "# Find the table that contains the list of largest companies\n",
        "table = soup.find('table', {'class': 'wikitable'})\n",
        "\n",
        "# Read the table into a pandas DataFrame\n",
        "df = pd.read_html(str(table))[0]\n",
        "\n",
        "# Flatten the MultiIndex columns\n",
        "df.columns = [' '.join(col).strip() for col in df.columns.values]\n",
        "\n",
        "# Limit to the top 50 companies\n",
        "top_50_companies = df.head(50)\n",
        "\n",
        "# Filter for companies in the \"Oil and gas\" industry\n",
        "oil_and_gas_companies = top_50_companies[top_50_companies['Industry Industry'].str.contains('Oil and gas', case=False, na=False)]\n",
        "\n",
        "# Show the result\n",
        "print(oil_and_gas_companies[['Name Name', 'Industry Industry']])\n"
      ],
      "metadata": {
        "colab": {
          "base_uri": "https://localhost:8080/"
        },
        "id": "cdROc9Sf2EmY",
        "outputId": "9572531b-a696-4de9-81d5-8cdb56518813"
      },
      "id": "cdROc9Sf2EmY",
      "execution_count": 69,
      "outputs": [
        {
          "output_type": "stream",
          "name": "stdout",
          "text": [
            "                               Name Name Industry Industry\n",
            "3                           Saudi Aramco       Oil and gas\n",
            "4        China Petrochemical Corporation       Oil and gas\n",
            "5   China National Petroleum Corporation       Oil and gas\n",
            "12                            ExxonMobil       Oil and gas\n",
            "13                                 Shell       Oil and gas\n",
            "24                         TotalEnergies       Oil and gas\n",
            "26                                    BP       Oil and gas\n",
            "29                               Chevron       Oil and gas\n"
          ]
        },
        {
          "output_type": "stream",
          "name": "stderr",
          "text": [
            "<ipython-input-69-edc90bee674e>:18: FutureWarning: Passing literal html to 'read_html' is deprecated and will be removed in a future version. To read from a literal string, wrap it in a 'StringIO' object.\n",
            "  df = pd.read_html(str(table))[0]\n"
          ]
        }
      ]
    }
  ],
  "metadata": {
    "colab": {
      "provenance": []
    },
    "kernelspec": {
      "display_name": "Python 3 (ipykernel)",
      "language": "python",
      "name": "python3"
    },
    "language_info": {
      "codemirror_mode": {
        "name": "ipython",
        "version": 3
      },
      "file_extension": ".py",
      "mimetype": "text/x-python",
      "name": "python",
      "nbconvert_exporter": "python",
      "pygments_lexer": "ipython3",
      "version": "3.11.5"
    },
    "otter": {
      "OK_FORMAT": true,
      "tests": {
        "q1": {
          "name": "q1",
          "points": 10,
          "suites": [
            {
              "cases": [
                {
                  "code": ">>> type(fivestar_books) == list\nTrue",
                  "hidden": false,
                  "locked": false
                }
              ],
              "scored": true,
              "setup": "",
              "teardown": "",
              "type": "doctest"
            }
          ]
        },
        "q2": {
          "name": "q2",
          "points": 10,
          "suites": [
            {
              "cases": [
                {
                  "code": ">>> type(total_price) == float\nTrue",
                  "hidden": false,
                  "locked": false
                }
              ],
              "scored": true,
              "setup": "",
              "teardown": "",
              "type": "doctest"
            }
          ]
        },
        "q3": {
          "name": "q3",
          "points": 10,
          "suites": [
            {
              "cases": [
                {
                  "code": ">>> type(price_in_dollars) == float\nTrue",
                  "hidden": false,
                  "locked": false
                }
              ],
              "scored": true,
              "setup": "",
              "teardown": "",
              "type": "doctest"
            }
          ]
        },
        "q4": {
          "name": "q4",
          "points": 10,
          "suites": [
            {
              "cases": [
                {
                  "code": ">>> type(movies_list) == list\nTrue",
                  "hidden": false,
                  "locked": false
                }
              ],
              "scored": true,
              "setup": "",
              "teardown": "",
              "type": "doctest"
            }
          ]
        },
        "q5": {
          "name": "q5",
          "points": 10,
          "suites": [
            {
              "cases": [
                {
                  "code": ">>> type(terminator_movies_list) == list\nTrue",
                  "hidden": false,
                  "locked": false
                }
              ],
              "scored": true,
              "setup": "",
              "teardown": "",
              "type": "doctest"
            }
          ]
        },
        "q6": {
          "name": "q6",
          "points": 10,
          "suites": [
            {
              "cases": [
                {
                  "code": ">>> type(avengers_gross) == int\nTrue",
                  "hidden": false,
                  "locked": false
                }
              ],
              "scored": true,
              "setup": "",
              "teardown": "",
              "type": "doctest"
            }
          ]
        },
        "q7": {
          "name": "q7",
          "points": 10,
          "suites": [
            {
              "cases": [
                {
                  "code": ">>> type(companies_list) == list\nTrue",
                  "hidden": false,
                  "locked": false
                }
              ],
              "scored": true,
              "setup": "",
              "teardown": "",
              "type": "doctest"
            }
          ]
        }
      }
    }
  },
  "nbformat": 4,
  "nbformat_minor": 5
}